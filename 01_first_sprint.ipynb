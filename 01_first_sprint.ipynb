{
 "cells": [
  {
   "cell_type": "markdown",
   "id": "d9a65f6c",
   "metadata": {},
   "source": [
    "![BARCELONA ACTIVA](https://clusteriluminacion.org/wp-content/uploads/2020/04/barcelona-activa-logo-socio-solartys.jpg)\n",
    "\n",
    "# FIRST SPRINT EXERCISE [H1]\n",
    "## LEVEL 1 [H2]\n",
    "### Exercici 1 [H3]\n",
    "\n",
    "- [x] Instal·la el programa *Anaconda* amb *Python 3*, i Jupyter Notebook. (**DONE**)\n",
    "\n",
    "### Exercici 2\n",
    "\n",
    "- Utilitzant *Jupyter Notebook* executa alguns càlculs senzills, a la vegada que et familiaritzes amb el llenguatge Markdown.\n",
    "\n",
    "1. Blockquote example\n",
    "\n",
    "> This chunk is made with Markdown code\n",
    "\n",
    "2. Table examples\n",
    "\n",
    "|COLUMN 1 |COLUMN 2| COLUMN 3|\n",
    "|---------|:------:|:--------|\n",
    "|VALUE 1| VALUE 2| VALUE 3|\n",
    "\n",
    "COLUMN 1 | Column 2\n",
    "---------|---------\n",
    "Row 1,2| Row 2,2\n",
    "\n",
    "3. Links\n",
    "\n",
    "[IT ADADEMI CAMPUS](https://itacademy.barcelonactiva.cat/)\n",
    "\n",
    "[Find here my LinkedIn](https://www.linkedin.com/in/gabriel-felipe-rodriguez-lozano \"FELIPE'S LinkedIn\")\n",
    "\n",
    "4. \n",
    "___\n"
   ]
  },
  {
   "cell_type": "code",
   "execution_count": 4,
   "id": "de3cd0d0",
   "metadata": {},
   "outputs": [
    {
     "name": "stdout",
     "output_type": "stream",
     "text": [
      "If we add a to b the result is:  25\n",
      "Floor division of 'c' and 'd' is:  1\n"
     ]
    }
   ],
   "source": [
    "# Some simple math operations\n",
    "\n",
    "'''Let\\'s create some variables with\n",
    "some values and operations results '''\n",
    "\n",
    "a = 20\n",
    "b = 5\n",
    "c = 32\n",
    "d = a + b \n",
    "f = c // d\n",
    "print(\"If we add a to b the result is: \",d)\n",
    "print(\"Floor division of 'c' and 'd' is: \", f)"
   ]
  },
  {
   "cell_type": "code",
   "execution_count": null,
   "id": "b2a1cb70",
   "metadata": {},
   "outputs": [],
   "source": []
  }
 ],
 "metadata": {
  "kernelspec": {
   "display_name": "Python 3",
   "language": "python",
   "name": "python3"
  },
  "language_info": {
   "codemirror_mode": {
    "name": "ipython",
    "version": 3
   },
   "file_extension": ".py",
   "mimetype": "text/x-python",
   "name": "python",
   "nbconvert_exporter": "python",
   "pygments_lexer": "ipython3",
   "version": "3.6.13"
  }
 },
 "nbformat": 4,
 "nbformat_minor": 5
}
